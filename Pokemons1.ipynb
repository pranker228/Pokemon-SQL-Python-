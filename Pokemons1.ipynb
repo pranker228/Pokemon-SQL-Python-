{
 "cells": [
  {
   "cell_type": "code",
   "execution_count": 1,
   "id": "da7f055c-98bd-4657-9293-a15e58a58b77",
   "metadata": {},
   "outputs": [],
   "source": [
    "import numpy as np"
   ]
  },
  {
   "cell_type": "code",
   "execution_count": 3,
   "id": "df0c3b7d-d7e1-4f01-a111-72557c0d79fd",
   "metadata": {},
   "outputs": [],
   "source": [
    "import matplotlib.pyplot as plt"
   ]
  },
  {
   "cell_type": "code",
   "execution_count": 60,
   "id": "2f4039f7-bad2-4c58-ba09-578a2e27614e",
   "metadata": {},
   "outputs": [],
   "source": [
    "import pandasql as pdsql\n",
    "import pandas as pd\n",
    "tablePokemon = pd.read_csv('...')"
   ]
  },
  {
   "cell_type": "code",
   "execution_count": 5,
   "id": "c657c282-087a-4755-a701-5fb455c6a9d4",
   "metadata": {},
   "outputs": [],
   "source": [
    "import seaborn as sb"
   ]
  },
  {
   "cell_type": "code",
   "execution_count": 7,
   "id": "67426c8b-946c-4aac-b63e-d9ff67bf2a75",
   "metadata": {},
   "outputs": [
    {
     "data": {
      "text/html": [
       "<div>\n",
       "<style scoped>\n",
       "    .dataframe tbody tr th:only-of-type {\n",
       "        vertical-align: middle;\n",
       "    }\n",
       "\n",
       "    .dataframe tbody tr th {\n",
       "        vertical-align: top;\n",
       "    }\n",
       "\n",
       "    .dataframe thead th {\n",
       "        text-align: right;\n",
       "    }\n",
       "</style>\n",
       "<table border=\"1\" class=\"dataframe\">\n",
       "  <thead>\n",
       "    <tr style=\"text-align: right;\">\n",
       "      <th></th>\n",
       "      <th>Unnamed: 0</th>\n",
       "      <th>#</th>\n",
       "      <th>Name</th>\n",
       "      <th>Type 1</th>\n",
       "      <th>Type 2</th>\n",
       "      <th>Total</th>\n",
       "      <th>HP</th>\n",
       "      <th>Attack</th>\n",
       "      <th>Defense</th>\n",
       "      <th>Sp. Atk</th>\n",
       "      <th>Sp. Def</th>\n",
       "      <th>Speed</th>\n",
       "      <th>Generation</th>\n",
       "      <th>Legendary</th>\n",
       "    </tr>\n",
       "  </thead>\n",
       "  <tbody>\n",
       "    <tr>\n",
       "      <th>0</th>\n",
       "      <td>0</td>\n",
       "      <td>1</td>\n",
       "      <td>Bulbasaur</td>\n",
       "      <td>Grass</td>\n",
       "      <td>Poison</td>\n",
       "      <td>318</td>\n",
       "      <td>45</td>\n",
       "      <td>49</td>\n",
       "      <td>49</td>\n",
       "      <td>65</td>\n",
       "      <td>65</td>\n",
       "      <td>45</td>\n",
       "      <td>1</td>\n",
       "      <td>False</td>\n",
       "    </tr>\n",
       "    <tr>\n",
       "      <th>1</th>\n",
       "      <td>1</td>\n",
       "      <td>2</td>\n",
       "      <td>Ivysaur</td>\n",
       "      <td>Grass</td>\n",
       "      <td>Poison</td>\n",
       "      <td>405</td>\n",
       "      <td>60</td>\n",
       "      <td>62</td>\n",
       "      <td>63</td>\n",
       "      <td>80</td>\n",
       "      <td>80</td>\n",
       "      <td>60</td>\n",
       "      <td>1</td>\n",
       "      <td>False</td>\n",
       "    </tr>\n",
       "    <tr>\n",
       "      <th>2</th>\n",
       "      <td>2</td>\n",
       "      <td>3</td>\n",
       "      <td>Venusaur</td>\n",
       "      <td>Grass</td>\n",
       "      <td>Poison</td>\n",
       "      <td>525</td>\n",
       "      <td>80</td>\n",
       "      <td>82</td>\n",
       "      <td>83</td>\n",
       "      <td>100</td>\n",
       "      <td>100</td>\n",
       "      <td>80</td>\n",
       "      <td>1</td>\n",
       "      <td>False</td>\n",
       "    </tr>\n",
       "    <tr>\n",
       "      <th>3</th>\n",
       "      <td>3</td>\n",
       "      <td>3</td>\n",
       "      <td>VenusaurMega Venusaur</td>\n",
       "      <td>Grass</td>\n",
       "      <td>Poison</td>\n",
       "      <td>625</td>\n",
       "      <td>80</td>\n",
       "      <td>100</td>\n",
       "      <td>123</td>\n",
       "      <td>122</td>\n",
       "      <td>120</td>\n",
       "      <td>80</td>\n",
       "      <td>1</td>\n",
       "      <td>False</td>\n",
       "    </tr>\n",
       "    <tr>\n",
       "      <th>4</th>\n",
       "      <td>4</td>\n",
       "      <td>4</td>\n",
       "      <td>Charmander</td>\n",
       "      <td>Fire</td>\n",
       "      <td>NaN</td>\n",
       "      <td>309</td>\n",
       "      <td>39</td>\n",
       "      <td>52</td>\n",
       "      <td>43</td>\n",
       "      <td>60</td>\n",
       "      <td>50</td>\n",
       "      <td>65</td>\n",
       "      <td>1</td>\n",
       "      <td>False</td>\n",
       "    </tr>\n",
       "    <tr>\n",
       "      <th>...</th>\n",
       "      <td>...</td>\n",
       "      <td>...</td>\n",
       "      <td>...</td>\n",
       "      <td>...</td>\n",
       "      <td>...</td>\n",
       "      <td>...</td>\n",
       "      <td>...</td>\n",
       "      <td>...</td>\n",
       "      <td>...</td>\n",
       "      <td>...</td>\n",
       "      <td>...</td>\n",
       "      <td>...</td>\n",
       "      <td>...</td>\n",
       "      <td>...</td>\n",
       "    </tr>\n",
       "    <tr>\n",
       "      <th>795</th>\n",
       "      <td>795</td>\n",
       "      <td>719</td>\n",
       "      <td>Diancie</td>\n",
       "      <td>Rock</td>\n",
       "      <td>Fairy</td>\n",
       "      <td>600</td>\n",
       "      <td>50</td>\n",
       "      <td>100</td>\n",
       "      <td>150</td>\n",
       "      <td>100</td>\n",
       "      <td>150</td>\n",
       "      <td>50</td>\n",
       "      <td>6</td>\n",
       "      <td>True</td>\n",
       "    </tr>\n",
       "    <tr>\n",
       "      <th>796</th>\n",
       "      <td>796</td>\n",
       "      <td>719</td>\n",
       "      <td>DiancieMega Diancie</td>\n",
       "      <td>Rock</td>\n",
       "      <td>Fairy</td>\n",
       "      <td>700</td>\n",
       "      <td>50</td>\n",
       "      <td>160</td>\n",
       "      <td>110</td>\n",
       "      <td>160</td>\n",
       "      <td>110</td>\n",
       "      <td>110</td>\n",
       "      <td>6</td>\n",
       "      <td>True</td>\n",
       "    </tr>\n",
       "    <tr>\n",
       "      <th>797</th>\n",
       "      <td>797</td>\n",
       "      <td>720</td>\n",
       "      <td>HoopaHoopa Confined</td>\n",
       "      <td>Psychic</td>\n",
       "      <td>Ghost</td>\n",
       "      <td>600</td>\n",
       "      <td>80</td>\n",
       "      <td>110</td>\n",
       "      <td>60</td>\n",
       "      <td>150</td>\n",
       "      <td>130</td>\n",
       "      <td>70</td>\n",
       "      <td>6</td>\n",
       "      <td>True</td>\n",
       "    </tr>\n",
       "    <tr>\n",
       "      <th>798</th>\n",
       "      <td>798</td>\n",
       "      <td>720</td>\n",
       "      <td>HoopaHoopa Unbound</td>\n",
       "      <td>Psychic</td>\n",
       "      <td>Dark</td>\n",
       "      <td>680</td>\n",
       "      <td>80</td>\n",
       "      <td>160</td>\n",
       "      <td>60</td>\n",
       "      <td>170</td>\n",
       "      <td>130</td>\n",
       "      <td>80</td>\n",
       "      <td>6</td>\n",
       "      <td>True</td>\n",
       "    </tr>\n",
       "    <tr>\n",
       "      <th>799</th>\n",
       "      <td>799</td>\n",
       "      <td>721</td>\n",
       "      <td>Volcanion</td>\n",
       "      <td>Fire</td>\n",
       "      <td>Water</td>\n",
       "      <td>600</td>\n",
       "      <td>80</td>\n",
       "      <td>110</td>\n",
       "      <td>120</td>\n",
       "      <td>130</td>\n",
       "      <td>90</td>\n",
       "      <td>70</td>\n",
       "      <td>6</td>\n",
       "      <td>True</td>\n",
       "    </tr>\n",
       "  </tbody>\n",
       "</table>\n",
       "<p>800 rows × 14 columns</p>\n",
       "</div>"
      ],
      "text/plain": [
       "     Unnamed: 0    #                   Name   Type 1  Type 2  Total  HP  \\\n",
       "0             0    1              Bulbasaur    Grass  Poison    318  45   \n",
       "1             1    2                Ivysaur    Grass  Poison    405  60   \n",
       "2             2    3               Venusaur    Grass  Poison    525  80   \n",
       "3             3    3  VenusaurMega Venusaur    Grass  Poison    625  80   \n",
       "4             4    4             Charmander     Fire     NaN    309  39   \n",
       "..          ...  ...                    ...      ...     ...    ...  ..   \n",
       "795         795  719                Diancie     Rock   Fairy    600  50   \n",
       "796         796  719    DiancieMega Diancie     Rock   Fairy    700  50   \n",
       "797         797  720    HoopaHoopa Confined  Psychic   Ghost    600  80   \n",
       "798         798  720     HoopaHoopa Unbound  Psychic    Dark    680  80   \n",
       "799         799  721              Volcanion     Fire   Water    600  80   \n",
       "\n",
       "     Attack  Defense  Sp. Atk  Sp. Def  Speed  Generation  Legendary  \n",
       "0        49       49       65       65     45           1      False  \n",
       "1        62       63       80       80     60           1      False  \n",
       "2        82       83      100      100     80           1      False  \n",
       "3       100      123      122      120     80           1      False  \n",
       "4        52       43       60       50     65           1      False  \n",
       "..      ...      ...      ...      ...    ...         ...        ...  \n",
       "795     100      150      100      150     50           6       True  \n",
       "796     160      110      160      110    110           6       True  \n",
       "797     110       60      150      130     70           6       True  \n",
       "798     160       60      170      130     80           6       True  \n",
       "799     110      120      130       90     70           6       True  \n",
       "\n",
       "[800 rows x 14 columns]"
      ]
     },
     "execution_count": 7,
     "metadata": {},
     "output_type": "execute_result"
    }
   ],
   "source": [
    "tablePokemon"
   ]
  },
  {
   "cell_type": "code",
   "execution_count": 11,
   "id": "d31ec5b7-2c04-40ee-b724-c4e986d2e41a",
   "metadata": {},
   "outputs": [],
   "source": [
    "first_quest = '''\n",
    "SELECT\n",
    "(SUM(CASE WHEN \"Type 2\" IS NOT NULL THEN 1 ELSE 0 END) * 100.0 / COUNT(*)) AS percentage\n",
    "FROM tablePokemon\n",
    "'''"
   ]
  },
  {
   "cell_type": "code",
   "execution_count": 12,
   "id": "bcbf911b-a5d2-4474-b666-3e1426b77afd",
   "metadata": {},
   "outputs": [],
   "source": [
    "result1 = pdsql.sqldf(first_quest, locals())"
   ]
  },
  {
   "cell_type": "code",
   "execution_count": 47,
   "id": "f37626ca-fb34-477c-a24f-41bfe780e537",
   "metadata": {},
   "outputs": [
    {
     "data": {
      "text/html": [
       "<div>\n",
       "<style scoped>\n",
       "    .dataframe tbody tr th:only-of-type {\n",
       "        vertical-align: middle;\n",
       "    }\n",
       "\n",
       "    .dataframe tbody tr th {\n",
       "        vertical-align: top;\n",
       "    }\n",
       "\n",
       "    .dataframe thead th {\n",
       "        text-align: right;\n",
       "    }\n",
       "</style>\n",
       "<table border=\"1\" class=\"dataframe\">\n",
       "  <thead>\n",
       "    <tr style=\"text-align: right;\">\n",
       "      <th></th>\n",
       "      <th>percentage</th>\n",
       "    </tr>\n",
       "  </thead>\n",
       "  <tbody>\n",
       "    <tr>\n",
       "      <th>0</th>\n",
       "      <td>51.75</td>\n",
       "    </tr>\n",
       "  </tbody>\n",
       "</table>\n",
       "</div>"
      ],
      "text/plain": [
       "   percentage\n",
       "0       51.75"
      ]
     },
     "execution_count": 47,
     "metadata": {},
     "output_type": "execute_result"
    }
   ],
   "source": [
    "result1"
   ]
  },
  {
   "cell_type": "code",
   "execution_count": 8,
   "id": "386d35be-5a5c-4310-b30c-afb5bb1569ae",
   "metadata": {},
   "outputs": [],
   "source": [
    "second_quest = '''\n",
    "SELECT DISTINCT \"Type 1\" AS type FROM tablePokemon\n",
    "UNION\n",
    "SELECT DISTINCT \"Type 2\" AS type FROM tablePokemon\n",
    "WHERE \"Type 2\" IS NOT NULL\n",
    "'''"
   ]
  },
  {
   "cell_type": "code",
   "execution_count": 9,
   "id": "63315fb2-3dba-418f-b45e-6afba8f07a74",
   "metadata": {},
   "outputs": [],
   "source": [
    "result2 = pdsql.sqldf(second_quest, locals())"
   ]
  },
  {
   "cell_type": "code",
   "execution_count": 10,
   "id": "ca110e14-4b04-4734-85a0-2bc234425f9b",
   "metadata": {},
   "outputs": [
    {
     "name": "stdout",
     "output_type": "stream",
     "text": [
      "        type\n",
      "0        Bug\n",
      "1       Dark\n",
      "2     Dragon\n",
      "3   Electric\n",
      "4      Fairy\n",
      "5   Fighting\n",
      "6       Fire\n",
      "7     Flying\n",
      "8      Ghost\n",
      "9      Grass\n",
      "10    Ground\n",
      "11       Ice\n",
      "12    Normal\n",
      "13    Poison\n",
      "14   Psychic\n",
      "15      Rock\n",
      "16     Steel\n",
      "17     Water\n"
     ]
    }
   ],
   "source": [
    "print(result2)"
   ]
  },
  {
   "cell_type": "code",
   "execution_count": 14,
   "id": "0e7b0267-b7ea-4ca7-8adb-e3774721e8ee",
   "metadata": {},
   "outputs": [],
   "source": [
    "third_quest = '''\n",
    "SELECT CASE\n",
    "WHEN \"Type 2\" IS NOT NULL THEN 'double'\n",
    "ELSE 'single'\n",
    "END AS pokemonType,\n",
    "AVG(Total)\n",
    "FROM tablePokemon\n",
    "GROUP BY pokemonType\n",
    "'''"
   ]
  },
  {
   "cell_type": "code",
   "execution_count": 15,
   "id": "8f8c0cd5-b7b6-4c42-b89d-ac6f14a7b45d",
   "metadata": {},
   "outputs": [],
   "source": [
    "result3 = pdsql.sqldf(third_quest, locals())"
   ]
  },
  {
   "cell_type": "code",
   "execution_count": 16,
   "id": "fe5ce8e3-ecce-46d6-8b3e-10d302afe9b3",
   "metadata": {},
   "outputs": [
    {
     "name": "stdout",
     "output_type": "stream",
     "text": [
      "  pokemonType  AVG(Total)\n",
      "0      double  456.628019\n",
      "1      single  412.015544\n"
     ]
    }
   ],
   "source": [
    "print(result3)"
   ]
  },
  {
   "cell_type": "code",
   "execution_count": 17,
   "id": "43da3d74-5d5e-4df1-aa5a-786ea9121579",
   "metadata": {},
   "outputs": [],
   "source": [
    "fourth_quest = '''\n",
    "SELECT CASE \n",
    "WHEN \"Type 1\" = 'Grass' OR \"Type 2\" = 'Grass' THEN 'grass'\n",
    "ELSE CASE WHEN \"Type 1\" = 'Fairy' OR \"Type 2\" = 'Fairy' THEN 'fairy'\n",
    "END\n",
    "END AS pokType,\n",
    "AVG(Defense)\n",
    "FROM tablePokemon\n",
    "GROUP BY pokType\n",
    "'''"
   ]
  },
  {
   "cell_type": "code",
   "execution_count": 18,
   "id": "c43fcab6-bead-4bd4-9410-8ff3b3ffea22",
   "metadata": {},
   "outputs": [],
   "source": [
    "result4 = pdsql.sqldf(fourth_quest, locals())"
   ]
  },
  {
   "cell_type": "code",
   "execution_count": 19,
   "id": "8803a8ab-490d-41ba-b0b9-966f7cbc08ac",
   "metadata": {},
   "outputs": [
    {
     "name": "stdout",
     "output_type": "stream",
     "text": [
      "  pokType  AVG(Defense)\n",
      "0    None     74.128936\n",
      "1   fairy     70.289474\n",
      "2   grass     73.252632\n"
     ]
    }
   ],
   "source": [
    "print(result4)"
   ]
  },
  {
   "cell_type": "code",
   "execution_count": 20,
   "id": "3050ac3a-27b4-4d44-80ad-2125e7d0b8c9",
   "metadata": {},
   "outputs": [],
   "source": [
    "five_quest = \"\"\"\n",
    "SELECT CASE\n",
    "WHEN Legendary = 1 THEN 'legendary'\n",
    "ELSE 'none'\n",
    "END AS legType,\n",
    "AVG(Total) avg_total, AVG(HP) avg_hp, AVG(Attack) avg_atk, AVG(Defense) avg_def, AVG(\\\"Sp. Atk\\\") sp_atk, AVG(\\\"Sp. Def\\\") sp_def, AVG(Speed) avg_speed\n",
    "FROM tablePokemon\n",
    "GROUP BY legType\n",
    "\"\"\""
   ]
  },
  {
   "cell_type": "code",
   "execution_count": 21,
   "id": "23a0ac49-37fa-49dd-86bb-29028243c2cd",
   "metadata": {},
   "outputs": [],
   "source": [
    "result5 = pdsql.sqldf(five_quest, locals())"
   ]
  },
  {
   "cell_type": "code",
   "execution_count": 22,
   "id": "f365ab24-c1c6-4e3d-808a-e37a9f1dfd9f",
   "metadata": {},
   "outputs": [
    {
     "name": "stdout",
     "output_type": "stream",
     "text": [
      "     legType   avg_total     avg_hp     avg_atk    avg_def      sp_atk  \\\n",
      "0  legendary  637.384615  92.738462  116.676923  99.661538  122.184615   \n",
      "1       none  417.213605  67.182313   75.669388  71.559184   68.454422   \n",
      "\n",
      "       sp_def   avg_speed  \n",
      "0  105.938462  100.184615  \n",
      "1   68.892517   65.455782  \n"
     ]
    }
   ],
   "source": [
    "print(result5) # Average legendary is stronger then non legendary"
   ]
  },
  {
   "cell_type": "code",
   "execution_count": 23,
   "id": "f070f1b2-9905-49ac-b871-639b6e0bf6ad",
   "metadata": {},
   "outputs": [],
   "source": [
    "six_quest = '''\n",
    "SELECT \n",
    "    legendary.Name AS legName, \n",
    "    none.Name AS nonlegName,\n",
    "    legendary.Total AS legTotal, \n",
    "    none.Total AS nonlegTotal\n",
    "FROM tablePokemon AS legendary\n",
    "JOIN tablePokemon AS none\n",
    "ON legendary.Legendary = 1 AND none.Legendary = 0\n",
    "WHERE legendary.Total < none.Total\n",
    "'''"
   ]
  },
  {
   "cell_type": "code",
   "execution_count": 24,
   "id": "f31732a3-1399-4aed-add4-2d96d80b005a",
   "metadata": {},
   "outputs": [],
   "source": [
    "result6 = pdsql.sqldf(six_quest, locals())"
   ]
  },
  {
   "cell_type": "code",
   "execution_count": 25,
   "id": "2d1ba32a-4b54-4d4f-bef5-98ca3af780c2",
   "metadata": {},
   "outputs": [
    {
     "name": "stdout",
     "output_type": "stream",
     "text": [
      "        legName                 nonlegName  legTotal  nonlegTotal\n",
      "0      Articuno    AbomasnowMega Abomasnow       580          594\n",
      "1      Articuno  AerodactylMega Aerodactyl       580          615\n",
      "2      Articuno          AggronMega Aggron       580          630\n",
      "3      Articuno      AlakazamMega Alakazam       580          590\n",
      "4      Articuno        AltariaMega Altaria       580          590\n",
      "...         ...                        ...       ...          ...\n",
      "1260  Volcanion                    Slaking       600          670\n",
      "1261  Volcanion        SteelixMega Steelix       600          610\n",
      "1262  Volcanion      SwampertMega Swampert       600          635\n",
      "1263  Volcanion    TyranitarMega Tyranitar       600          700\n",
      "1264  Volcanion      VenusaurMega Venusaur       600          625\n",
      "\n",
      "[1265 rows x 4 columns]\n"
     ]
    }
   ],
   "source": [
    "print(result6)"
   ]
  },
  {
   "cell_type": "code",
   "execution_count": 39,
   "id": "3348115b-621e-4e58-bce2-34d7f84fb14a",
   "metadata": {},
   "outputs": [],
   "source": [
    "seven_quest = '''\n",
    "SELECT \n",
    "    legendary.Name AS legName, \n",
    "    none.Name AS nonlegName,\n",
    "    none.Total - legendary.Total AS TotalDifference\n",
    "FROM tablePokemon AS legendary\n",
    "JOIN tablePokemon AS none\n",
    "ON legendary.Legendary = 1 AND none.Legendary = 0\n",
    "WHERE legendary.Total < none.Total\n",
    "'''"
   ]
  },
  {
   "cell_type": "code",
   "execution_count": 40,
   "id": "37fb8a1f-c50a-4bf0-a86a-165d5309e3c4",
   "metadata": {},
   "outputs": [],
   "source": [
    "result7 = pdsql.sqldf(seven_quest, locals())"
   ]
  },
  {
   "cell_type": "code",
   "execution_count": 41,
   "id": "73fea488-125a-4178-8e30-acf7316c496c",
   "metadata": {},
   "outputs": [
    {
     "name": "stdout",
     "output_type": "stream",
     "text": [
      "        legName                 nonlegName  TotalDifference\n",
      "0      Articuno    AbomasnowMega Abomasnow               14\n",
      "1      Articuno  AerodactylMega Aerodactyl               35\n",
      "2      Articuno          AggronMega Aggron               50\n",
      "3      Articuno      AlakazamMega Alakazam               10\n",
      "4      Articuno        AltariaMega Altaria               10\n",
      "...         ...                        ...              ...\n",
      "1260  Volcanion                    Slaking               70\n",
      "1261  Volcanion        SteelixMega Steelix               10\n",
      "1262  Volcanion      SwampertMega Swampert               35\n",
      "1263  Volcanion    TyranitarMega Tyranitar              100\n",
      "1264  Volcanion      VenusaurMega Venusaur               25\n",
      "\n",
      "[1265 rows x 3 columns]\n"
     ]
    }
   ],
   "source": [
    "print(result7)"
   ]
  },
  {
   "cell_type": "code",
   "execution_count": 42,
   "id": "9b310633-c2de-40eb-a55d-f05385786609",
   "metadata": {},
   "outputs": [
    {
     "data": {
      "image/png": "[encoded data removed]",
      "text/plain": [
       "<Figure size 1000x500 with 1 Axes>"
      ]
     },
     "metadata": {},
     "output_type": "display_data"
    }
   ],
   "source": [
    "plt.figure(figsize=(10, 5))\n",
    "sb.histplot(result7['TotalDifference'], bins=10, kde=True, color ='blue')\n",
    "plt.title('Гистограмма разности показателей Total для легендарных и не легендарных покемонов')\n",
    "plt.xlabel('Разность Total')\n",
    "plt.ylabel('Частота')\n",
    "plt.grid(True)\n",
    "plt.show()"
   ]
  },
  {
   "cell_type": "code",
   "execution_count": 43,
   "id": "5a1da8ae-4335-432f-b633-7f59789e51a0",
   "metadata": {},
   "outputs": [],
   "source": [
    "mean = result7['TotalDifference'].mean()\n",
    "median = result7['TotalDifference'].median()\n",
    "mode = result7['TotalDifference'].mode()"
   ]
  },
  {
   "cell_type": "code",
   "execution_count": 44,
   "id": "271d6e7f-ff5f-4c46-92ba-9e1acea45b47",
   "metadata": {},
   "outputs": [
    {
     "name": "stdout",
     "output_type": "stream",
     "text": [
      "среднее арифметическое: 38.74624505928854\n",
      "медиана: 25.0\n",
      "мода: 20\n"
     ]
    }
   ],
   "source": [
    "print(f'среднее арифметическое: {mean}')\n",
    "print(f'медиана: {median}')\n",
    "print(f'мода: {mode.values[0]}')"
   ]
  },
  {
   "cell_type": "code",
   "execution_count": 26,
   "id": "2fce8582-ee54-400a-863a-015028259e08",
   "metadata": {},
   "outputs": [],
   "source": [
    "eight_quest = '''\n",
    "SELECT HP, Attack, Defense, \"Sp. Atk\", \"Sp. Def\", Speed\n",
    "FROM tablePokemon\n",
    "'''"
   ]
  },
  {
   "cell_type": "code",
   "execution_count": 27,
   "id": "1277b541-381d-4a1b-a152-3d799f5d30bf",
   "metadata": {},
   "outputs": [],
   "source": [
    "result8 = pdsql.sqldf(eight_quest, locals())"
   ]
  },
  {
   "cell_type": "code",
   "execution_count": 62,
   "id": "4f86a9e2-8c3b-4505-bc62-85a051669d3c",
   "metadata": {},
   "outputs": [],
   "source": [
    "corr_matrix = result8.corr()\n",
    "corr_df = pd.DataFrame(corr_matrix)\n",
    "corr_long = corr_df.stack().reset_index()\n",
    "corr_long.columns = ['Feature1', 'Feature2', 'Correlation']\n",
    "min_corr = corr_long.loc[corr_long['Correlation'].idxmin()]"
   ]
  },
  {
   "cell_type": "code",
   "execution_count": 61,
   "id": "a5b17c2f-783d-4091-b6ec-2d84c79cf876",
   "metadata": {},
   "outputs": [
    {
     "data": {
      "text/plain": [
       "Feature1        Defense\n",
       "Feature2          Speed\n",
       "Correlation    0.015227\n",
       "Name: 17, dtype: object"
      ]
     },
     "execution_count": 61,
     "metadata": {},
     "output_type": "execute_result"
    }
   ],
   "source": [
    "min_corr"
   ]
  },
  {
   "cell_type": "code",
   "execution_count": 33,
   "id": "a778dbee-0ef0-40de-9935-287beba80dbe",
   "metadata": {},
   "outputs": [],
   "source": [
    "nine_quest_1 = '''\n",
    "SELECT Generation, COUNT(*) AS total\n",
    "FROM tablePokemon\n",
    "GROUP BY Generation\n",
    "'''"
   ]
  },
  {
   "cell_type": "code",
   "execution_count": 34,
   "id": "ec517a09-2bb7-450a-9134-62394d281efa",
   "metadata": {},
   "outputs": [],
   "source": [
    "nine_quest_2 = '''\n",
    "SELECT Generation, COUNT(*) AS legendary\n",
    "FROM tablePokemon\n",
    "WHERE Legendary = 1\n",
    "GROUP BY Generation\n",
    "'''"
   ]
  },
  {
   "cell_type": "code",
   "execution_count": 35,
   "id": "4cd55139-66c8-4dfe-965f-c025044af110",
   "metadata": {},
   "outputs": [],
   "source": [
    "result9_1 = pdsql.sqldf(nine_quest_1)\n",
    "result9_2 = pdsql.sqldf(nine_quest_2)"
   ]
  },
  {
   "cell_type": "code",
   "execution_count": 46,
   "id": "79257986-5842-48e4-8587-045f3ad635ee",
   "metadata": {},
   "outputs": [],
   "source": [
    "combo = pd.merge(result9_1, result9_2, on='Generation', how='left').fillna(0)\n",
    "combo['Percentage legendary'] = (combo['legendary'] / combo['total']) * 100"
   ]
  },
  {
   "cell_type": "code",
   "execution_count": 63,
   "id": "6bf41885-0c6f-483d-8b5e-9a74ef0657bc",
   "metadata": {},
   "outputs": [
    {
     "data": {
      "text/html": [
       "<div>\n",
       "<style scoped>\n",
       "    .dataframe tbody tr th:only-of-type {\n",
       "        vertical-align: middle;\n",
       "    }\n",
       "\n",
       "    .dataframe tbody tr th {\n",
       "        vertical-align: top;\n",
       "    }\n",
       "\n",
       "    .dataframe thead th {\n",
       "        text-align: right;\n",
       "    }\n",
       "</style>\n",
       "<table border=\"1\" class=\"dataframe\">\n",
       "  <thead>\n",
       "    <tr style=\"text-align: right;\">\n",
       "      <th></th>\n",
       "      <th>Generation</th>\n",
       "      <th>total</th>\n",
       "      <th>legendary</th>\n",
       "      <th>Percentage legendary</th>\n",
       "    </tr>\n",
       "  </thead>\n",
       "  <tbody>\n",
       "    <tr>\n",
       "      <th>0</th>\n",
       "      <td>1</td>\n",
       "      <td>166</td>\n",
       "      <td>6</td>\n",
       "      <td>3.614458</td>\n",
       "    </tr>\n",
       "    <tr>\n",
       "      <th>1</th>\n",
       "      <td>2</td>\n",
       "      <td>106</td>\n",
       "      <td>5</td>\n",
       "      <td>4.716981</td>\n",
       "    </tr>\n",
       "    <tr>\n",
       "      <th>2</th>\n",
       "      <td>3</td>\n",
       "      <td>160</td>\n",
       "      <td>18</td>\n",
       "      <td>11.250000</td>\n",
       "    </tr>\n",
       "    <tr>\n",
       "      <th>3</th>\n",
       "      <td>4</td>\n",
       "      <td>121</td>\n",
       "      <td>13</td>\n",
       "      <td>10.743802</td>\n",
       "    </tr>\n",
       "    <tr>\n",
       "      <th>4</th>\n",
       "      <td>5</td>\n",
       "      <td>165</td>\n",
       "      <td>15</td>\n",
       "      <td>9.090909</td>\n",
       "    </tr>\n",
       "    <tr>\n",
       "      <th>5</th>\n",
       "      <td>6</td>\n",
       "      <td>82</td>\n",
       "      <td>8</td>\n",
       "      <td>9.756098</td>\n",
       "    </tr>\n",
       "  </tbody>\n",
       "</table>\n",
       "</div>"
      ],
      "text/plain": [
       "   Generation  total  legendary  Percentage legendary\n",
       "0           1    166          6              3.614458\n",
       "1           2    106          5              4.716981\n",
       "2           3    160         18             11.250000\n",
       "3           4    121         13             10.743802\n",
       "4           5    165         15              9.090909\n",
       "5           6     82          8              9.756098"
      ]
     },
     "execution_count": 63,
     "metadata": {},
     "output_type": "execute_result"
    }
   ],
   "source": [
    "combo"
   ]
  },
  {
   "cell_type": "code",
   "execution_count": 38,
   "id": "8b1c7249-a095-48ad-b9e9-f6e27fd63f9d",
   "metadata": {},
   "outputs": [],
   "source": [
    "\n",
    "# Смотря на 'result5', можно увидеть, что средний легендарный намного сильнее среднего не легендарного. Смотря на поколение, можно увидеть,\n",
    "# что в первых поколениях было мало легендарных, однако начиная с 3 поколения видно, что легендарных стало намного больше.\n",
    "# Можно сделать вывод, что легендарные покемоны намного сильнее не легендарных, и их количество начиная с 3 поколения значительно возрасло, в целом,\n",
    "# никакая характеристика не играет особой роли.\n"
   ]
  }
 ],
 "metadata": {
  "kernelspec": {
   "display_name": "Python 3 (ipykernel)",
   "language": "python",
   "name": "python3"
  },
  "language_info": {
   "codemirror_mode": {
    "name": "ipython",
    "version": 3
   },
   "file_extension": ".py",
   "mimetype": "text/x-python",
   "name": "python",
   "nbconvert_exporter": "python",
   "pygments_lexer": "ipython3",
   "version": "3.12.5"
  }
 },
 "nbformat": 4,
 "nbformat_minor": 5
}
